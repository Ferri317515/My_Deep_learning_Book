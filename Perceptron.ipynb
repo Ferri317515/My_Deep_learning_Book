{
 "cells": [
  {
   "cell_type": "markdown",
   "id": "29778c5b",
   "metadata": {},
   "source": [
    "# Perceptron"
   ]
  },
  {
   "cell_type": "code",
   "execution_count": 1,
   "id": "c9633218-1fd6-45a0-8928-a505ee0a2276",
   "metadata": {},
   "outputs": [
    {
     "data": {
      "image/png": "[encoded data removed]",
      "text/plain": [
       "<Figure size 432x288 with 1 Axes>"
      ]
     },
     "metadata": {
      "needs_background": "light"
     },
     "output_type": "display_data"
    }
   ],
   "source": [
    "from matplotlib import pyplot as plt\n",
    "import numpy as np\n",
    "\n",
    "f = open('data.csv')\n",
    "data = []\n",
    "\n",
    "# consume the header line\n",
    "f.readline()\n",
    "\n",
    "# read and parse the lines\n",
    "for line in f:\n",
    "    (x1,x2,y) = line.split(',')\n",
    "    x1 = float(x1)\n",
    "    x2 = float(x2)\n",
    "    y = int(y)\n",
    "    data.append((x1,x2,y))\n",
    "    \n",
    "plt.plot([x1 for (x1,x2,y) in data if y==0], [x2 for (x1,x2,y) in data if y==0], 'o', mec='r', mfc='none')\n",
    "plt.plot([x1 for (x1,x2,y) in data if y==1], [x2 for (x1,x2,y) in data if y==1], 'o', mec='g', mfc='none');"
   ]
  },
  {
   "cell_type": "code",
   "execution_count": 2,
   "id": "6c1ed90b-ee10-481f-9bc4-0be7dc74338e",
   "metadata": {},
   "outputs": [],
   "source": [
    "class Point:\n",
    "\n",
    "    def __init__(self,x,y):\n",
    "        self.x = x\n",
    "        self.y = y\n",
    "\n",
    "    def __str__(self):\n",
    "        return('Punto di coordinate  (%f,%f)' % (self.x,self.y))\n",
    "\n",
    "class Line:\n",
    "\n",
    "    def __init__(self,a,b,c):\n",
    "        self.a = a\n",
    "        self.b = b\n",
    "        self.c = c\n",
    "\n",
    "    def __str__(self):\n",
    "        return('Retta di equazione %f x1 + %f x2 + %f = 0' % (self.a,self.b,self.c))\n",
    "\n",
    "    def Esplicita(self):\n",
    "        if self.b == 0:\n",
    "            print('Retta verticale!')\n",
    "        else:\n",
    "            m = -self.a/self.b\n",
    "            q = -self.c/self.b\n",
    "            return(m,q)\n",
    "\n",
    "    def Aggiorna(self,x1,x2,y):\n",
    "        self.a += y*x1\n",
    "        self.b += y*x2\n",
    "        self.c += y\n",
    "\n",
    "    def Disegna(self,xmin=0,xmax=5):\n",
    "        [m,q] = self.Esplicita()\n",
    "        x = np.linspace(xmin,xmax,20)\n",
    "        plt.plot(x,m*x+q)"
   ]
  },
  {
   "cell_type": "code",
   "execution_count": 3,
   "id": "8619faca-c225-40e4-af33-83e8ec5fa1b6",
   "metadata": {},
   "outputs": [],
   "source": [
    "def distanza(p,r):\n",
    "    d = (np.abs(r.a * p.x +r.b * p.y + r.c) / np.sqrt(r.a**2+r.b**2))\n",
    "    return(d)\n",
    "\n",
    "def draw(p,r,xmin=-5,xmax=5,label=''):\n",
    "    [m,q] = r.Esplicita()\n",
    "    x = np.linspace(xmin,xmax,20)\n",
    "    plt.plot(x,m*x+q,label=label)\n",
    "    plt.plot(p.x,p.y,'o',mec='r')\n",
    "    plt.legend()\n",
    "\n",
    "def predict(p,r):\n",
    "    if r.a * p.x +r.b * p.y + r.c < 0:\n",
    "        t = 0\n",
    "    else:\n",
    "        t = 1\n",
    "    return(t)"
   ]
  },
  {
   "cell_type": "code",
   "execution_count": 4,
   "id": "1d068fab-1dd3-4d45-8f1a-295a0a892a4b",
   "metadata": {},
   "outputs": [],
   "source": [
    "def fit(data):\n",
    "    l = Line(0,0,0)\n",
    "    ok = 1\n",
    "    while ok == 1:\n",
    "        for (x1,x2,y) in data:\n",
    "            P = Point(x1,x2)\n",
    "            t = predict(P,l)\n",
    "            if t != y:\n",
    "                if y == 0:\n",
    "                    y = -1\n",
    "                l.Aggiorna(P.x,P.y,y)\n",
    "                ok = 1\n",
    "                break\n",
    "            else:\n",
    "                ok = 0\n",
    "    return(l)"
   ]
  },
  {
   "cell_type": "code",
   "execution_count": 5,
   "id": "399b0c3c-7e81-47ac-a315-aa520bf5c8e9",
   "metadata": {},
   "outputs": [],
   "source": [
    "l=fit(data)"
   ]
  },
  {
   "cell_type": "code",
   "execution_count": 6,
   "id": "0b2fc151-c4e8-41a6-ac09-4cce58d1823d",
   "metadata": {},
   "outputs": [
    {
     "data": {
      "image/png": "[encoded data removed]",
      "text/plain": [
       "<Figure size 432x288 with 1 Axes>"
      ]
     },
     "metadata": {
      "needs_background": "light"
     },
     "output_type": "display_data"
    }
   ],
   "source": [
    "plt.plot([x1 for (x1,x2,y) in data if y==0], [x2 for (x1,x2,y) in data if y==0], 'o', mec='r', mfc='none')\n",
    "plt.plot([x1 for (x1,x2,y) in data if y==1], [x2 for (x1,x2,y) in data if y==1], 'o', mec='g', mfc='none')\n",
    "l.Disegna()"
   ]
  }
 ],
 "metadata": {
  "kernelspec": {
   "display_name": "Python 3",
   "language": "python",
   "name": "python3"
  },
  "language_info": {
   "codemirror_mode": {
    "name": "ipython",
    "version": 3
   },
   "file_extension": ".py",
   "mimetype": "text/x-python",
   "name": "python",
   "nbconvert_exporter": "python",
   "pygments_lexer": "ipython3",
   "version": "3.9.2"
  }
 },
 "nbformat": 4,
 "nbformat_minor": 5
}

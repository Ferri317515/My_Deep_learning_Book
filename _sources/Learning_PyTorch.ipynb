{
 "cells": [
  {
   "cell_type": "markdown",
   "id": "4a547c43",
   "metadata": {},
   "source": [
    "# Esercitazione 1"
   ]
  },
  {
   "cell_type": "markdown",
   "id": "04eae94f",
   "metadata": {},
   "source": [
    "In questa sezione ci sono i principali esercizi fatti nella prima esercitazione di laboratorio."
   ]
  },
  {
   "cell_type": "code",
   "execution_count": 9,
   "id": "fd44eb4c",
   "metadata": {},
   "outputs": [],
   "source": [
    "import torch"
   ]
  },
  {
   "cell_type": "code",
   "execution_count": 10,
   "id": "ac60ad6e",
   "metadata": {},
   "outputs": [],
   "source": [
    "import matplotlib.pyplot as plt\n",
    "from sklearn import datasets, linear_model\n",
    "from sklearn.metrics import mean_squared_error, r2_score\n",
    "#from jupyterthemes import jtplot\n",
    "#jtplot.style(theme='monokai', context='notebook', ticks=True, grid=False)\n",
    "%matplotlib inline"
   ]
  },
  {
   "cell_type": "code",
   "execution_count": null,
   "id": "711abb18",
   "metadata": {},
   "outputs": [],
   "source": []
  },
  {
   "cell_type": "code",
   "execution_count": 11,
   "id": "e6ee87a8",
   "metadata": {},
   "outputs": [],
   "source": [
    "dataset = torch.tensor([[1,3],\n",
    "                        [1.11, 3.06],\n",
    "                        [1.2, 3.3],\n",
    "                        [1.3, 3.4],\n",
    "                        [1.43, 3.7],\n",
    "                        [1.6, 3.5],\n",
    "                        [1.8, 3.66],\n",
    "                        [1.87, 3.82],\n",
    "                        [2.1,4]], dtype = torch.float)\n",
    "# nel dataset ci sono i punti a 2 coordinate\n",
    "x = dataset[:,0]     # we select the first feature of all points (variabile indipendente)\n",
    "y = dataset[:,1]     # we select the second feature of all points (variabile dipendente)"
   ]
  },
  {
   "cell_type": "markdown",
   "id": "cbb41f41",
   "metadata": {},
   "source": [
    "## Gradient Descent"
   ]
  },
  {
   "cell_type": "code",
   "execution_count": 12,
   "id": "a3747ee4",
   "metadata": {},
   "outputs": [],
   "source": [
    "params = torch.zeros(2, requires_grad = True)\n",
    "\n",
    "def model(x,params):\n",
    "    a,b = params\n",
    "    return(a*x+b)\n",
    "\n",
    "def mse(y,y_predict):\n",
    "    return ((y-y_predict)**2).mean()"
   ]
  },
  {
   "cell_type": "code",
   "execution_count": 13,
   "id": "c5c066e4",
   "metadata": {},
   "outputs": [],
   "source": [
    "# Creo algoritmo\n",
    "\n",
    "learning_rate = .01                              \n",
    "losses = []                                      \n",
    "As = []                                          \n",
    "bs = []                                          \n",
    "\n",
    "for epoch in range(3):                         \n",
    "    \n",
    "  if params.grad is not None:\n",
    "    params.grad.zero_()        # metodo per annullare un tensore                   \n",
    "                                                  \n",
    "                                                 \n",
    "\n",
    "  y_predicted = model(x, params)\n",
    "  loss = mse(y_predicted, y)\n",
    "  loss.backward()                                 \n",
    "                                                  \n",
    "                                                 \n",
    "                                                 \n",
    "\n",
    "  As.append(float(params[0]))                     \n",
    "                                                 \n",
    "  bs.append(float(params[1]))\n",
    "  losses.append(float(loss))\n",
    "\n",
    "  with torch.no_grad():                           \n",
    "                                                 \n",
    "      params -= learning_rate * params.grad       "
   ]
  },
  {
   "cell_type": "code",
   "execution_count": 14,
   "id": "0f46129c",
   "metadata": {},
   "outputs": [
    {
     "name": "stdout",
     "output_type": "stream",
     "text": [
      "a, b, c = tensor([0.2979, 0.1962], requires_grad=True) \n",
      "Loss:  9.378692626953125\n"
     ]
    }
   ],
   "source": [
    "print(\"a, b, c =\", params, \"\\nLoss: \", losses[-1])"
   ]
  },
  {
   "cell_type": "code",
   "execution_count": 15,
   "id": "89e18b2f",
   "metadata": {},
   "outputs": [
    {
     "data": {
      "image/png": "[encoded data removed]",
      "text/plain": [
       "<Figure size 432x288 with 1 Axes>"
      ]
     },
     "metadata": {
      "needs_background": "light"
     },
     "output_type": "display_data"
    }
   ],
   "source": [
    "plt.plot(losses)\n",
    "plt.xlabel(\"Epoch\")\n",
    "plt.ylabel(\"MSELoss\")\n",
    "\n",
    "plt.show()"
   ]
  },
  {
   "cell_type": "code",
   "execution_count": 16,
   "id": "6fd7b14c",
   "metadata": {},
   "outputs": [
    {
     "data": {
      "image/png": "[encoded data removed]",
      "text/plain": [
       "<Figure size 432x288 with 1 Axes>"
      ]
     },
     "metadata": {
      "needs_background": "light"
     },
     "output_type": "display_data"
    }
   ],
   "source": [
    "y_predicted = model(x, params).detach()    # we detach the values of a and b from their gradient\n",
    "                                             # con detach lo stacchi dall'albero\n",
    "\n",
    "plt.scatter(x, y)\n",
    "plt.plot(x, y_predicted, color = \"red\")\n",
    "\n",
    "plt.xlabel(\"x\")\n",
    "plt.ylabel(\"y\")\n",
    "\n",
    "plt.show()"
   ]
  },
  {
   "cell_type": "markdown",
   "id": "ad1c0b1e",
   "metadata": {},
   "source": [
    "## Linear regression - diabetes"
   ]
  },
  {
   "cell_type": "code",
   "execution_count": 17,
   "id": "f4cee881",
   "metadata": {},
   "outputs": [],
   "source": [
    "from sklearn.datasets import load_diabetes # importiamo il dataset\n",
    "diabetes = load_diabetes()"
   ]
  },
  {
   "cell_type": "code",
   "execution_count": 18,
   "id": "70fd14ce",
   "metadata": {},
   "outputs": [],
   "source": [
    "# we import the diabetes dataset\n",
    "\n",
    "X = torch.tensor(diabetes.data, dtype = torch.float)   # features\n",
    "y = torch.tensor(diabetes.target, dtype = torch.float) # label (dopo quanto tempo peggiora la malattia)\n",
    "\n",
    "number_sample_train = 150\n",
    "y = y / y.max() # normalizziamo le labels per avere Loss che non esplodano"
   ]
  },
  {
   "cell_type": "code",
   "execution_count": 19,
   "id": "4f4bc2c0",
   "metadata": {},
   "outputs": [],
   "source": [
    "def calcola_pseudo_inv(X,lambda_reg=0):\n",
    "    n = X.shape[1]\n",
    "    pseudo_inv = torch.matmul((torch.inverse(torch.matmul(X.T,X)+lambda_reg*torch.eye(n))),X.T)  \n",
    "    return(pseudo_inv)\n",
    "\n",
    "def calcola_w_ML(X,y,lambda_reg=0):\n",
    "    A = calcola_pseudo_inv(X,lambda_reg)\n",
    "    w_ML = torch.matmul(A,y)\n",
    "    return(w_ML)\n",
    "\n",
    "def predict(X,w):           # regressione lineare, data la design matrix e vettore parametri\n",
    "    y_predict = torch.matmul(X,w)\n",
    "    return(y_predict)\n",
    "\n",
    "# errore con ridge regression\n",
    "\n",
    "def errore(y,y_predict,w,lambda_reg=0):\n",
    "    m = len(y)\n",
    "    diff = y-y_predict\n",
    "    err = (torch.matmul(diff.T,diff)+lambda_reg*torch.matmul(w.T,w))/m\n",
    "    return(err)\n",
    "\n",
    "def r2(y,y_predict):\n",
    "    RSS = ((y-y_predict)**2).sum()\n",
    "    TSS = ((y-y.mean())**2).sum()\n",
    "    r2 = 1- RSS/TSS\n",
    "    return(r2)"
   ]
  },
  {
   "cell_type": "code",
   "execution_count": 20,
   "id": "7dd4d0bf",
   "metadata": {},
   "outputs": [],
   "source": [
    "bias = torch.tensor([[1]]*X.size()[0])\n",
    "Design_Matrix = torch.cat((X,bias),1)\n",
    "D_train, D_test = Design_Matrix[:number_sample_train], Design_Matrix[number_sample_train:]\n",
    "y_train, y_test = y[:number_sample_train], y[number_sample_train:]\n",
    "\n",
    "w_ML = calcola_w_ML(D_train,y_train,lambda_reg=0)\n",
    "y_predict = predict(D_test,w_ML)\n",
    "err_T = errore(y_train,torch.matmul(D_train,w_ML),w_ML,lambda_reg=0)\n",
    "err_g = errore(y_test,y_predict,w_ML,lambda_reg=0)"
   ]
  },
  {
   "cell_type": "markdown",
   "id": "5cc42607",
   "metadata": {},
   "source": [
    "## Sklearn Linear Regression"
   ]
  },
  {
   "cell_type": "code",
   "execution_count": 21,
   "id": "e67ab73a",
   "metadata": {},
   "outputs": [],
   "source": [
    "diabetes_X_train, diabetes_X_test = X[:number_sample_train], X[number_sample_train:]\n",
    "diabetes_y_train, diabetes_y_test = y[:number_sample_train], y[number_sample_train:]\n",
    "\n",
    "regr = linear_model.LinearRegression()\n",
    "ridge = linear_model.Ridge()\n",
    "\n",
    "regr.fit(diabetes_X_train, diabetes_y_train)\n",
    "diabetes_y_pred = regr.predict(diabetes_X_test)\n",
    "\n",
    "# provo Ridge regression via Sklearn\n",
    "\n",
    "ridge.set_params(alpha=0)     # alpha è quello che io ho chiamato lambda_reg\n",
    "ridge.fit(diabetes_X_train, diabetes_y_train);"
   ]
  },
  {
   "cell_type": "markdown",
   "id": "4d33ad7e",
   "metadata": {},
   "source": [
    "## Confronto tra i risultati"
   ]
  },
  {
   "cell_type": "code",
   "execution_count": 22,
   "id": "8734fe75",
   "metadata": {},
   "outputs": [
    {
     "name": "stdout",
     "output_type": "stream",
     "text": [
      "Coefficienti linear model sklearn: \n",
      " [-0.1946023  -1.0693307   1.2887858   0.9378546   0.2575962  -1.0704414\n",
      " -0.7617573   0.35604006  1.6735233   0.259839  ]\n",
      "\n",
      "Coefficienti mio algoritmo: \n",
      " tensor([-0.1946, -1.0693,  1.2888,  0.9379,  0.2575, -1.0703, -0.7617,  0.3560,\n",
      "         1.6736,  0.2598,  0.4420])\n",
      "\n",
      "Coefficienti Ridge regression: \n",
      " [-0.19460189 -1.06932957  1.28878518  0.93785423  0.25759546 -1.07044043\n",
      " -0.7617567   0.3560407   1.67352304  0.25983869]\n",
      "\n"
     ]
    }
   ],
   "source": [
    "print(\"Coefficienti linear model sklearn: \\n\", regr.coef_)\n",
    "print('')\n",
    "print('''Coefficienti mio algoritmo: \n",
    "''',w_ML)\n",
    "print('')\n",
    "print(\"Coefficienti Ridge regression: \\n\", ridge.coef_)\n",
    "print('')"
   ]
  },
  {
   "cell_type": "code",
   "execution_count": null,
   "id": "a6723c0f",
   "metadata": {},
   "outputs": [],
   "source": []
  }
 ],
 "metadata": {
  "kernelspec": {
   "display_name": "Python 3",
   "language": "python",
   "name": "python3"
  },
  "language_info": {
   "codemirror_mode": {
    "name": "ipython",
    "version": 3
   },
   "file_extension": ".py",
   "mimetype": "text/x-python",
   "name": "python",
   "nbconvert_exporter": "python",
   "pygments_lexer": "ipython3",
   "version": "3.9.2"
  }
 },
 "nbformat": 4,
 "nbformat_minor": 5
}

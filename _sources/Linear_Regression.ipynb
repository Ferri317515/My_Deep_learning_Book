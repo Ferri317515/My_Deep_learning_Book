{
 "cells": [
  {
   "cell_type": "markdown",
   "id": "4eca48b8",
   "metadata": {},
   "source": [
    "# Linear regression"
   ]
  },
  {
   "cell_type": "markdown",
   "id": "6683b693",
   "metadata": {},
   "source": [
    "Qui ci sono un po' di esercizi sulla Regressione lineare, svolti sia con NumPy che con PyTorch, da database di SkLearn. Affronto sia la regressione lineare con la normal equation che con il gradient descent."
   ]
  },
  {
   "cell_type": "markdown",
   "id": "5ef2f859",
   "metadata": {},
   "source": [
    "## Fitting with the exact solution"
   ]
  },
  {
   "cell_type": "code",
   "execution_count": null,
   "id": "a310b55c",
   "metadata": {},
   "outputs": [],
   "source": [
    "import numpy as np\n",
    "import pandas as pd\n",
    "import torch\n",
    "import matplotlib.pyplot as plt\n",
    "from sklearn import datasets, linear_model\n",
    "from sklearn.metrics import mean_squared_error, r2_score\n",
    "#from jupyterthemes import jtplot\n",
    "#jtplot.style(theme='monokai', context='notebook', ticks=True, grid=False)\n",
    "%matplotlib inline"
   ]
  },
  {
   "cell_type": "markdown",
   "id": "bf290e3a",
   "metadata": {},
   "source": [
    "### A simple dataset"
   ]
  },
  {
   "cell_type": "code",
   "execution_count": 49,
   "id": "f721f98e",
   "metadata": {},
   "outputs": [],
   "source": [
    "dataset = torch.tensor([[1,3],\n",
    "                        [1.11, 3.06],\n",
    "                        [1.2, 3.3],\n",
    "                        [1.3, 3.4],\n",
    "                        [1.43, 3.7],\n",
    "                        [1.6, 3.5],\n",
    "                        [1.8, 3.66],\n",
    "                        [1.87, 3.82],\n",
    "                        [2.1,4]], dtype = torch.float)\n",
    "\n",
    "x = dataset[:,0]     # we select the first feature of all points\n",
    "y = dataset[:,1]     # we select the second feature of all points"
   ]
  },
  {
   "cell_type": "code",
   "execution_count": 50,
   "id": "fca399f5",
   "metadata": {},
   "outputs": [
    {
     "data": {
      "image/png": "[encoded data removed]",
      "text/plain": [
       "<Figure size 432x288 with 1 Axes>"
      ]
     },
     "metadata": {
      "needs_background": "dark"
     },
     "output_type": "display_data"
    }
   ],
   "source": [
    "plt.scatter(x,y)\n",
    "\n",
    "plt.xlabel(\"x\")\n",
    "plt.ylabel(\"y\")\n",
    "\n",
    "plt.show()"
   ]
  },
  {
   "cell_type": "markdown",
   "id": "38f82f2e",
   "metadata": {},
   "source": [
    "Linear regression is the simplest machine learning algorithm. It is used to model the relationship between two variables: a dependent variable (y) and an independent variable (x). The goal is to find the best-fitting linear equation that describes the relationship between these variables. The \"best\" fit will be the line that minimizes the sum of squared residuals (the least-squares approach)"
   ]
  },
  {
   "cell_type": "markdown",
   "id": "7ba81ee2",
   "metadata": {},
   "source": [
    "Given a loss functions defined as:\n",
    "\n",
    "$ \\mathcal{L} = \\mathbb{E}[(y - ax - b)^2]$\n",
    "\n",
    "The [optimal parameters](https://en.wikipedia.org/wiki/Simple_linear_regression) to minimize the loss are:\n",
    "\n",
    "$ a = \\dfrac{\\sigma_{x,y}}{\\sigma^2_x}$\n",
    "\n",
    "$ b = \\bar{y} - a \\bar{x}$"
   ]
  },
  {
   "cell_type": "code",
   "execution_count": 51,
   "id": "a8526743",
   "metadata": {},
   "outputs": [
    {
     "data": {
      "text/plain": [
       "(tensor(0.8415), tensor(2.2395))"
      ]
     },
     "execution_count": 51,
     "metadata": {},
     "output_type": "execute_result"
    }
   ],
   "source": [
    "covariance = (x.dot(y) / (y.shape[0]) - x.mean() * y.mean()) # numeratore miglior stima di a\n",
    "\n",
    "a =  covariance / x.var(unbiased=False)             # correction = 0 is used to divide \n",
    "                                                    # by n and not n-1 (qui unbiased=False)\n",
    "b = y.mean() - a * x.mean()\n",
    "\n",
    "a, b"
   ]
  },
  {
   "cell_type": "code",
   "execution_count": 52,
   "id": "3e8d03c0",
   "metadata": {},
   "outputs": [
    {
     "data": {
      "image/png": "[encoded data removed]",
      "text/plain": [
       "<Figure size 432x288 with 1 Axes>"
      ]
     },
     "metadata": {
      "needs_background": "dark"
     },
     "output_type": "display_data"
    }
   ],
   "source": [
    "plt.scatter(x,y)\n",
    "plt.plot(x, a*x + b, color = \"red\")\n",
    "\n",
    "plt.xlabel(\"x\")\n",
    "plt.ylabel(\"y\")\n",
    "\n",
    "plt.show()"
   ]
  },
  {
   "cell_type": "code",
   "execution_count": 53,
   "id": "b9fbaa51",
   "metadata": {},
   "outputs": [
    {
     "data": {
      "text/plain": [
       "tensor(0.0121)"
      ]
     },
     "execution_count": 53,
     "metadata": {},
     "output_type": "execute_result"
    }
   ],
   "source": [
    "best_mse = ((a*x + b - y)**2).mean(); best_mse"
   ]
  },
  {
   "cell_type": "markdown",
   "id": "f30c4105",
   "metadata": {},
   "source": [
    "### Diabetes: NumPy - Pandas"
   ]
  },
  {
   "cell_type": "markdown",
   "id": "5c9835bc",
   "metadata": {},
   "source": [
    "#### Dataset"
   ]
  },
  {
   "cell_type": "markdown",
   "id": "893d24c5",
   "metadata": {},
   "source": [
    "Carico i dati e, su 200, ne assegno 150 al training set"
   ]
  },
  {
   "cell_type": "code",
   "execution_count": null,
   "id": "5d1a215b",
   "metadata": {},
   "outputs": [],
   "source": [
    "number_examples = 200\n",
    "number_sample_train = 150\n",
    "diabetes = datasets.load_diabetes()\n",
    "X = diabetes.data[:number_examples]\n",
    "y = diabetes.target[:number_examples]"
   ]
  },
  {
   "cell_type": "code",
   "execution_count": null,
   "id": "6df0971d",
   "metadata": {},
   "outputs": [],
   "source": [
    "X_centered = X   # inizializzo semplicemente X_centered\n",
    "for i in range(X.shape[1]):\n",
    "    X_centered[:,i]=(X[:,i]-X[:,i].mean())   # se faccio feature normalization c'è qualcosa che non va\n",
    "    \n",
    "y_centered = (y-y.mean())"
   ]
  },
  {
   "cell_type": "markdown",
   "id": "2b563450",
   "metadata": {},
   "source": [
    "#### Modelli"
   ]
  },
  {
   "cell_type": "markdown",
   "id": "d600996e",
   "metadata": {},
   "source": [
    "##### Mio algoritmo"
   ]
  },
  {
   "cell_type": "code",
   "execution_count": null,
   "id": "9298bd36",
   "metadata": {},
   "outputs": [],
   "source": [
    "# Funzioni per la regressione lineare\n",
    "\n",
    "# Calcola pseudoinversa con ridge regression\n",
    "\n",
    "def calcola_pseudo_inv(X,lambda_reg=0):\n",
    "    n = X.shape[1]\n",
    "    pseudo_inv = np.dot((np.linalg.inv(np.dot(X.T,X)+lambda_reg*np.identity(n))),X.T)  \n",
    "    return(pseudo_inv)\n",
    "\n",
    "def calcola_w_ML(X,y,lambda_reg=0):\n",
    "    A = calcola_pseudo_inv(X,lambda_reg)\n",
    "    w_ML = np.dot(A,y)\n",
    "    return(w_ML)\n",
    "\n",
    "def predict(X,w):           # regressione lineare, data la design matrix e vettore parametri\n",
    "    y_predict = np.dot(X,w)\n",
    "    return(y_predict)\n",
    "\n",
    "# errore con ridge regression\n",
    "\n",
    "def errore(y,y_predict,w,lambda_reg=0):\n",
    "    m = len(y)\n",
    "    diff = y-y_predict\n",
    "    err = (np.dot(diff.T,diff)+lambda_reg*np.dot(w.T,w))/m\n",
    "    return(err)\n",
    "\n",
    "def r2(y,y_predict):\n",
    "    RSS = ((y-y_predict)**2).sum()\n",
    "    TSS = ((y-y.mean())**2).sum()\n",
    "    r2 = 1- RSS/TSS\n",
    "    return(r2)"
   ]
  },
  {
   "cell_type": "code",
   "execution_count": null,
   "id": "33e4c326",
   "metadata": {},
   "outputs": [],
   "source": [
    "df = pd.DataFrame(data=X_centered)       # uso pandas così maneggio facilmente il database\n",
    "df.insert(0,'x0',1)          # aggiungo una colonna di 1 per il peso relativo al bias\n",
    "Design_Matrix = df.to_numpy()\n",
    "D_train, D_test = Design_Matrix[:number_sample_train], Design_Matrix[number_sample_train:]\n",
    "y_train, y_test = y_centered[:number_sample_train], y_centered[number_sample_train:]\n",
    "\n",
    "w_ML = calcola_w_ML(D_train,y_train,lambda_reg=10)\n",
    "y_predict = predict(D_test,w_ML)\n",
    "err_T = errore(y_train,np.dot(D_train,w_ML),w_ML,lambda_reg=10)\n",
    "err_g = errore(y_test,y_predict,w_ML,lambda_reg=10)"
   ]
  },
  {
   "cell_type": "markdown",
   "id": "d417a36b",
   "metadata": {},
   "source": [
    "##### Sklearn Linear Regression"
   ]
  },
  {
   "cell_type": "code",
   "execution_count": null,
   "id": "2aa4a68f",
   "metadata": {},
   "outputs": [],
   "source": [
    "diabetes_X_train, diabetes_X_test = X[:number_sample_train], X[number_sample_train:]\n",
    "diabetes_y_train, diabetes_y_test = y[:number_sample_train], y[number_sample_train:]\n",
    "\n",
    "regr = linear_model.LinearRegression()\n",
    "ridge = linear_model.Ridge()\n",
    "\n",
    "regr.fit(diabetes_X_train, diabetes_y_train)\n",
    "diabetes_y_pred = regr.predict(diabetes_X_test)\n",
    "\n",
    "# provo Ridge regression via Sklearn\n",
    "\n",
    "ridge.set_params(alpha=10)     # alpha è quello che io ho chiamato lambda_reg\n",
    "ridge.fit(diabetes_X_train, diabetes_y_train);"
   ]
  },
  {
   "cell_type": "markdown",
   "id": "1f9664a0",
   "metadata": {},
   "source": [
    "#### Confronto tra i risultati"
   ]
  },
  {
   "cell_type": "code",
   "execution_count": null,
   "id": "3746931e",
   "metadata": {},
   "outputs": [],
   "source": [
    "print(\"Coefficienti linear model sklearn: \\n\", regr.coef_)\n",
    "print('')\n",
    "print('''Coefficienti mio algoritmo: \n",
    "''',w_ML)\n",
    "print('')\n",
    "print(\"Coefficienti Ridge regression: \\n\", ridge.coef_)\n",
    "print('')"
   ]
  },
  {
   "cell_type": "markdown",
   "id": "6cab4675",
   "metadata": {},
   "source": [
    "#### Confronto tra gli errori"
   ]
  },
  {
   "cell_type": "markdown",
   "id": "924db1c2",
   "metadata": {},
   "source": [
    "##### Sklearn"
   ]
  },
  {
   "cell_type": "code",
   "execution_count": null,
   "id": "ca740fd9",
   "metadata": {},
   "outputs": [],
   "source": [
    "# The mean squared error\n",
    "print(\"Mean squared error: %.2f\" % mean_squared_error(diabetes_y_test, diabetes_y_pred))\n"
   ]
  },
  {
   "cell_type": "markdown",
   "id": "d54ea84b",
   "metadata": {},
   "source": [
    "##### Mio algoritmo"
   ]
  },
  {
   "cell_type": "code",
   "execution_count": null,
   "id": "b0b97f86",
   "metadata": {},
   "outputs": [],
   "source": [
    "print('In sample error: %.2f' %err_T)\n",
    "print('Out of sample error: %.2f' %err_g)"
   ]
  },
  {
   "cell_type": "code",
   "execution_count": null,
   "id": "05da15aa",
   "metadata": {},
   "outputs": [],
   "source": [
    "ridge.score(diabetes_X_test,diabetes_y_test)  # R2 score, devo fare lo stesso per il mio algoritmo"
   ]
  },
  {
   "cell_type": "code",
   "execution_count": null,
   "id": "855a24e5",
   "metadata": {},
   "outputs": [],
   "source": [
    "regr.score(diabetes_X_test,diabetes_y_test)"
   ]
  },
  {
   "cell_type": "code",
   "execution_count": null,
   "id": "36471492",
   "metadata": {},
   "outputs": [],
   "source": [
    "r2 = r2(y_test,y_predict)\n",
    "\n",
    "r2"
   ]
  },
  {
   "cell_type": "code",
   "execution_count": null,
   "id": "f0c6aad3",
   "metadata": {},
   "outputs": [],
   "source": [
    "diabetes_X_train.shape"
   ]
  },
  {
   "cell_type": "markdown",
   "id": "a8bce959",
   "metadata": {},
   "source": [
    "### Diabetes: PyTorch"
   ]
  },
  {
   "cell_type": "code",
   "execution_count": null,
   "id": "a822b4aa",
   "metadata": {},
   "outputs": [],
   "source": [
    "# we import the diabetes dataset\n",
    "\n",
    "X = torch.tensor(diabetes.data, dtype = torch.float)   # features\n",
    "y = torch.tensor(diabetes.target, dtype = torch.float) # label (dopo quanto tempo peggiora la malattia)\n",
    "\n",
    "number_sample_train = 150\n",
    "y = y / y.max() # normalizziamo le labels per avere Loss che non esplodano"
   ]
  },
  {
   "cell_type": "markdown",
   "id": "151a7c5e",
   "metadata": {},
   "source": [
    "#### Mio algoritmo"
   ]
  },
  {
   "cell_type": "code",
   "execution_count": null,
   "id": "a57114c4",
   "metadata": {},
   "outputs": [],
   "source": [
    "def calcola_pseudo_inv(X,lambda_reg=0):\n",
    "    n = X.shape[1]\n",
    "    pseudo_inv = torch.matmul((torch.inverse(torch.matmul(X.T,X)+lambda_reg*torch.eye(n))),X.T)  \n",
    "    return(pseudo_inv)\n",
    "\n",
    "def calcola_w_ML(X,y,lambda_reg=0):\n",
    "    A = calcola_pseudo_inv(X,lambda_reg)\n",
    "    w_ML = torch.matmul(A,y)\n",
    "    return(w_ML)\n",
    "\n",
    "def predict(X,w):           # regressione lineare, data la design matrix e vettore parametri\n",
    "    y_predict = torch.matmul(X,w)\n",
    "    return(y_predict)\n",
    "\n",
    "# errore con ridge regression\n",
    "\n",
    "def errore(y,y_predict,w,lambda_reg=0):\n",
    "    m = len(y)\n",
    "    diff = y-y_predict\n",
    "    err = (torch.matmul(diff.T,diff)+lambda_reg*torch.matmul(w.T,w))/m\n",
    "    return(err)\n",
    "\n",
    "def r2(y,y_predict):\n",
    "    RSS = ((y-y_predict)**2).sum()\n",
    "    TSS = ((y-y.mean())**2).sum()\n",
    "    r2 = 1- RSS/TSS\n",
    "    return(r2)"
   ]
  },
  {
   "cell_type": "code",
   "execution_count": null,
   "id": "88b95552",
   "metadata": {},
   "outputs": [],
   "source": [
    "bias = torch.tensor([[1]]*X.size()[0])\n",
    "Design_Matrix = torch.cat((X,bias),1)\n",
    "D_train, D_test = Design_Matrix[:number_sample_train], Design_Matrix[number_sample_train:]\n",
    "y_train, y_test = y[:number_sample_train], y[number_sample_train:]\n",
    "\n",
    "w_ML = calcola_w_ML(D_train,y_train,lambda_reg=0)\n",
    "y_predict = predict(D_test,w_ML)\n",
    "err_T = errore(y_train,torch.matmul(D_train,w_ML),w_ML,lambda_reg=0)\n",
    "err_g = errore(y_test,y_predict,w_ML,lambda_reg=0)"
   ]
  },
  {
   "cell_type": "markdown",
   "id": "ffd4ff2e",
   "metadata": {},
   "source": [
    "#### Sklearn Linear Regression"
   ]
  },
  {
   "cell_type": "code",
   "execution_count": null,
   "id": "e6f48be8",
   "metadata": {},
   "outputs": [],
   "source": [
    "diabetes_X_train, diabetes_X_test = X[:number_sample_train], X[number_sample_train:]\n",
    "diabetes_y_train, diabetes_y_test = y[:number_sample_train], y[number_sample_train:]\n",
    "\n",
    "regr = linear_model.LinearRegression()\n",
    "ridge = linear_model.Ridge()\n",
    "\n",
    "regr.fit(diabetes_X_train, diabetes_y_train)\n",
    "diabetes_y_pred = regr.predict(diabetes_X_test)\n",
    "\n",
    "# provo Ridge regression via Sklearn\n",
    "\n",
    "ridge.set_params(alpha=0)     # alpha è quello che io ho chiamato lambda_reg\n",
    "ridge.fit(diabetes_X_train, diabetes_y_train);"
   ]
  },
  {
   "cell_type": "markdown",
   "id": "04645a21",
   "metadata": {},
   "source": [
    "#### Confronto tra i risultati"
   ]
  },
  {
   "cell_type": "code",
   "execution_count": null,
   "id": "c8b1f259",
   "metadata": {},
   "outputs": [],
   "source": [
    "print(\"Coefficienti linear model sklearn: \\n\", regr.coef_)\n",
    "print('')\n",
    "print('''Coefficienti mio algoritmo: \n",
    "''',w_ML)\n",
    "print('')\n",
    "print(\"Coefficienti Ridge regression: \\n\", ridge.coef_)\n",
    "print('')"
   ]
  }
 ],
 "metadata": {
  "kernelspec": {
   "display_name": "Python 3",
   "language": "python",
   "name": "python3"
  },
  "language_info": {
   "codemirror_mode": {
    "name": "ipython",
    "version": 3
   },
   "file_extension": ".py",
   "mimetype": "text/x-python",
   "name": "python",
   "nbconvert_exporter": "python",
   "pygments_lexer": "ipython3",
   "version": "3.9.2"
  }
 },
 "nbformat": 4,
 "nbformat_minor": 5
}
